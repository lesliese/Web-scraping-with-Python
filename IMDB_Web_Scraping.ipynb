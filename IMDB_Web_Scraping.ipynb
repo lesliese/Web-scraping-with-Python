{
 "cells": [
  {
   "cell_type": "markdown",
   "id": "0bac07f3",
   "metadata": {},
   "source": [
    "<img src=\"IMDB_Logo.png\"\n",
    "    style=\"width:400px; float: right; margin: 0 40px 40px 40px;\"></img>\n",
    "    \n",
    "# IMDb Top 250 Movies"
   ]
  },
  {
   "cell_type": "markdown",
   "id": "0e2b95e2",
   "metadata": {},
   "source": [
    "![green-divider](http://localhost:8888/files/Downloads/Web_Scraping/divider.png)\n"
   ]
  },
  {
   "cell_type": "markdown",
   "id": "44ce7468",
   "metadata": {},
   "source": [
    "### Importing packages"
   ]
  },
  {
   "cell_type": "code",
   "execution_count": 1,
   "id": "a348f16d",
   "metadata": {},
   "outputs": [],
   "source": [
    "import requests\n",
    "from bs4 import BeautifulSoup\n",
    "import pandas as pd\n",
    "from csv import reader\n",
    "from urllib.request import urlretrieve"
   ]
  },
  {
   "cell_type": "markdown",
   "id": "f3a86712",
   "metadata": {},
   "source": [
    "![green-divider](http://localhost:8888/files/Downloads/Web_Scraping/divider.png)\n"
   ]
  },
  {
   "cell_type": "markdown",
   "id": "c38b4c19",
   "metadata": {},
   "source": [
    "### Get the data"
   ]
  },
  {
   "cell_type": "code",
   "execution_count": 2,
   "id": "ef7eb0f9",
   "metadata": {},
   "outputs": [],
   "source": [
    "# EXTRACT: GET THE DATA\n",
    "def get_data(searchTerm):\n",
    "    url = f'https://www.imdb.com/chart/{searchTerm}'\n",
    "    r = requests.get(url)\n",
    "    soup = BeautifulSoup(r.text, 'html.parser')\n",
    "    return soup\n"
   ]
  },
  {
   "cell_type": "markdown",
   "id": "5fcd85f7",
   "metadata": {},
   "source": [
    "![green-divider](http://localhost:8888/files/Downloads/Web_Scraping/divider.png)\n"
   ]
  },
  {
   "cell_type": "markdown",
   "id": "5561c4c5",
   "metadata": {},
   "source": [
    "### Parse the data"
   ]
  },
  {
   "cell_type": "code",
   "execution_count": 3,
   "id": "5cea61ee",
   "metadata": {},
   "outputs": [],
   "source": [
    "# TRANSFORM: PARSE THE DATA\n",
    "def parse(soup, searchTerm):\n",
    "    moviesList = []\n",
    "    results = soup.find('tbody', class_=\"lister-list\").find_all('tr')\n",
    "    #print(len(results))\n",
    "    \n",
    "    if (searchTerm=='toptv'):\n",
    "        for item in results:\n",
    "            movie = {\n",
    "                'Rank': item.find('td', class_=\"titleColumn\").get_text(strip=True).split('.')[0],\n",
    "                'Title': item.find('td', class_=\"titleColumn\").a.text,\n",
    "                'Year': item.find('td', class_=\"titleColumn\").span.text.strip('()'),\n",
    "                'Rating': item.find('td', class_=\"ratingColumn imdbRating\").strong.text,\n",
    "                #'Rating': item.find('td', class_=\"ratingColumn imdbRating\").get_text(strip=True),\n",
    "                #'Director': item.find('td', class_=\"titleColumn\").a['title'].split(',')[0].replace(' (dir.)',''),\n",
    "                'Actors': item.find('td', class_=\"titleColumn\").a['title'].strip(),\n",
    "                'Number of User Ratings': item.find('td', class_=\"ratingColumn imdbRating\").strong['title'].split()[3].strip('\\\"').replace(',',''),\n",
    "            }\n",
    "            moviesList.append(movie)\n",
    "        \n",
    "    else:\n",
    "        for item in results:\n",
    "            movie = {\n",
    "                'Rank': item.find('td', class_=\"titleColumn\").get_text(strip=True).split('.')[0],\n",
    "                'Title': item.find('td', class_=\"titleColumn\").a.text,\n",
    "                'Year': item.find('td', class_=\"titleColumn\").span.text.strip('()'),\n",
    "                'Rating': item.find('td', class_=\"ratingColumn imdbRating\").strong.text,\n",
    "                #'Rating': item.find('td', class_=\"ratingColumn imdbRating\").get_text(strip=True),\n",
    "                'Director': item.find('td', class_=\"titleColumn\").a['title'].split(',')[0].replace(' (dir.)',''),\n",
    "                'Actors': item.find('td', class_=\"titleColumn\").a['title'].split(',',1)[1].strip(),\n",
    "                'Number of User Ratings': item.find('td', class_=\"ratingColumn imdbRating\").strong['title'].split()[3].strip('\\\"').replace(',',''),\n",
    "            }\n",
    "            moviesList.append(movie)\n",
    "    \n",
    "    return moviesList"
   ]
  },
  {
   "cell_type": "markdown",
   "id": "1a9565a4",
   "metadata": {},
   "source": [
    "![green-divider](http://localhost:8888/files/Downloads/Web_Scraping/divider.png)\n"
   ]
  },
  {
   "cell_type": "markdown",
   "id": "ac0989cd",
   "metadata": {},
   "source": [
    "### Load the data"
   ]
  },
  {
   "cell_type": "code",
   "execution_count": 4,
   "id": "76487703",
   "metadata": {},
   "outputs": [],
   "source": [
    "#LOAD: SAVE THE DATA\n",
    "def output(productsList, searchTerm):\n",
    "    productsdf = pd.DataFrame(productsList)\n",
    "    productsdf = productsdf.to_csv(searchTerm + '-output.csv', index=False)\n",
    "    print('Saved to '+ searchTerm + '-output.csv')\n",
    "    return"
   ]
  },
  {
   "cell_type": "markdown",
   "id": "5c4fd809",
   "metadata": {},
   "source": [
    "![green-divider](http://localhost:8888/files/Downloads/Web_Scraping/divider.png)\n"
   ]
  },
  {
   "cell_type": "code",
   "execution_count": 5,
   "id": "13a1c090",
   "metadata": {},
   "outputs": [
    {
     "name": "stdout",
     "output_type": "stream",
     "text": [
      "Saved to toptv-output.csv\n",
      "Saved to top-english-movies-output.csv\n",
      "Saved to top-output.csv\n",
      "Saved to bottom-output.csv\n"
     ]
    }
   ],
   "source": [
    "searchList = ['toptv','top-english-movies', 'top', 'bottom']\n",
    "\n",
    "for searchTerm in searchList:\n",
    "    soup = get_data(searchTerm)\n",
    "    productsList = parse(soup, searchTerm)\n",
    "    output(productsList, searchTerm)"
   ]
  },
  {
   "cell_type": "markdown",
   "id": "acac0464",
   "metadata": {},
   "source": [
    "![green-divider](http://localhost:8888/files/Downloads/Web_Scraping/divider.png)\n"
   ]
  },
  {
   "cell_type": "markdown",
   "id": "37fffc56",
   "metadata": {},
   "source": [
    "### Loading the files into a DataFrame"
   ]
  },
  {
   "cell_type": "code",
   "execution_count": 7,
   "id": "dae18f99",
   "metadata": {},
   "outputs": [
    {
     "data": {
      "text/html": [
       "<div>\n",
       "<style scoped>\n",
       "    .dataframe tbody tr th:only-of-type {\n",
       "        vertical-align: middle;\n",
       "    }\n",
       "\n",
       "    .dataframe tbody tr th {\n",
       "        vertical-align: top;\n",
       "    }\n",
       "\n",
       "    .dataframe thead th {\n",
       "        text-align: right;\n",
       "    }\n",
       "</style>\n",
       "<table border=\"1\" class=\"dataframe\">\n",
       "  <thead>\n",
       "    <tr style=\"text-align: right;\">\n",
       "      <th></th>\n",
       "      <th>Title</th>\n",
       "      <th>Year</th>\n",
       "      <th>Rating</th>\n",
       "      <th>Director</th>\n",
       "      <th>Actors</th>\n",
       "      <th>Number of User Ratings</th>\n",
       "    </tr>\n",
       "    <tr>\n",
       "      <th>Rank</th>\n",
       "      <th></th>\n",
       "      <th></th>\n",
       "      <th></th>\n",
       "      <th></th>\n",
       "      <th></th>\n",
       "      <th></th>\n",
       "    </tr>\n",
       "  </thead>\n",
       "  <tbody>\n",
       "    <tr>\n",
       "      <th>1</th>\n",
       "      <td>The Shawshank Redemption</td>\n",
       "      <td>1994</td>\n",
       "      <td>9.3</td>\n",
       "      <td>Frank Darabont</td>\n",
       "      <td>Tim Robbins, Morgan Freeman</td>\n",
       "      <td>2592177</td>\n",
       "    </tr>\n",
       "    <tr>\n",
       "      <th>2</th>\n",
       "      <td>The Godfather</td>\n",
       "      <td>1972</td>\n",
       "      <td>9.2</td>\n",
       "      <td>Francis Ford Coppola</td>\n",
       "      <td>Marlon Brando, Al Pacino</td>\n",
       "      <td>1787460</td>\n",
       "    </tr>\n",
       "    <tr>\n",
       "      <th>3</th>\n",
       "      <td>The Dark Knight</td>\n",
       "      <td>2008</td>\n",
       "      <td>9.0</td>\n",
       "      <td>Christopher Nolan</td>\n",
       "      <td>Christian Bale, Heath Ledger</td>\n",
       "      <td>2563022</td>\n",
       "    </tr>\n",
       "    <tr>\n",
       "      <th>4</th>\n",
       "      <td>The Godfather: Part II</td>\n",
       "      <td>1974</td>\n",
       "      <td>9.0</td>\n",
       "      <td>Francis Ford Coppola</td>\n",
       "      <td>Al Pacino, Robert De Niro</td>\n",
       "      <td>1233444</td>\n",
       "    </tr>\n",
       "    <tr>\n",
       "      <th>5</th>\n",
       "      <td>12 Angry Men</td>\n",
       "      <td>1957</td>\n",
       "      <td>9.0</td>\n",
       "      <td>Sidney Lumet</td>\n",
       "      <td>Henry Fonda, Lee J. Cobb</td>\n",
       "      <td>765748</td>\n",
       "    </tr>\n",
       "  </tbody>\n",
       "</table>\n",
       "</div>"
      ],
      "text/plain": [
       "                         Title  Year  Rating              Director  \\\n",
       "Rank                                                                 \n",
       "1     The Shawshank Redemption  1994     9.3        Frank Darabont   \n",
       "2                The Godfather  1972     9.2  Francis Ford Coppola   \n",
       "3              The Dark Knight  2008     9.0     Christopher Nolan   \n",
       "4       The Godfather: Part II  1974     9.0  Francis Ford Coppola   \n",
       "5                 12 Angry Men  1957     9.0          Sidney Lumet   \n",
       "\n",
       "                            Actors  Number of User Ratings  \n",
       "Rank                                                        \n",
       "1      Tim Robbins, Morgan Freeman                 2592177  \n",
       "2         Marlon Brando, Al Pacino                 1787460  \n",
       "3     Christian Bale, Heath Ledger                 2563022  \n",
       "4        Al Pacino, Robert De Niro                 1233444  \n",
       "5         Henry Fonda, Lee J. Cobb                  765748  "
      ]
     },
     "execution_count": 7,
     "metadata": {},
     "output_type": "execute_result"
    }
   ],
   "source": [
    "urlretrieve('http://localhost:8888/edit/Downloads/Web_Scraping/top-english-movies-output.csv')\n",
    "topEnglishMovies= pd.read_csv('top-english-movies-output.csv' , index_col=0)\n",
    "topEnglishMovies.head()"
   ]
  },
  {
   "cell_type": "code",
   "execution_count": 8,
   "id": "68729d61",
   "metadata": {},
   "outputs": [
    {
     "data": {
      "text/html": [
       "<div>\n",
       "<style scoped>\n",
       "    .dataframe tbody tr th:only-of-type {\n",
       "        vertical-align: middle;\n",
       "    }\n",
       "\n",
       "    .dataframe tbody tr th {\n",
       "        vertical-align: top;\n",
       "    }\n",
       "\n",
       "    .dataframe thead th {\n",
       "        text-align: right;\n",
       "    }\n",
       "</style>\n",
       "<table border=\"1\" class=\"dataframe\">\n",
       "  <thead>\n",
       "    <tr style=\"text-align: right;\">\n",
       "      <th></th>\n",
       "      <th>Title</th>\n",
       "      <th>Year</th>\n",
       "      <th>Rating</th>\n",
       "      <th>Actors</th>\n",
       "      <th>Number of User Ratings</th>\n",
       "    </tr>\n",
       "    <tr>\n",
       "      <th>Rank</th>\n",
       "      <th></th>\n",
       "      <th></th>\n",
       "      <th></th>\n",
       "      <th></th>\n",
       "      <th></th>\n",
       "    </tr>\n",
       "  </thead>\n",
       "  <tbody>\n",
       "    <tr>\n",
       "      <th>1</th>\n",
       "      <td>Planet Earth II</td>\n",
       "      <td>2016</td>\n",
       "      <td>9.4</td>\n",
       "      <td>David Attenborough, Chadden Hunter</td>\n",
       "      <td>132463</td>\n",
       "    </tr>\n",
       "    <tr>\n",
       "      <th>2</th>\n",
       "      <td>Breaking Bad</td>\n",
       "      <td>2008</td>\n",
       "      <td>9.4</td>\n",
       "      <td>Bryan Cranston, Aaron Paul</td>\n",
       "      <td>1738809</td>\n",
       "    </tr>\n",
       "    <tr>\n",
       "      <th>3</th>\n",
       "      <td>Planet Earth</td>\n",
       "      <td>2006</td>\n",
       "      <td>9.4</td>\n",
       "      <td>Sigourney Weaver, David Attenborough</td>\n",
       "      <td>199038</td>\n",
       "    </tr>\n",
       "    <tr>\n",
       "      <th>4</th>\n",
       "      <td>Band of Brothers</td>\n",
       "      <td>2001</td>\n",
       "      <td>9.4</td>\n",
       "      <td>Scott Grimes, Damian Lewis</td>\n",
       "      <td>444422</td>\n",
       "    </tr>\n",
       "    <tr>\n",
       "      <th>5</th>\n",
       "      <td>Chernobyl</td>\n",
       "      <td>2019</td>\n",
       "      <td>9.3</td>\n",
       "      <td>Jessie Buckley, Jared Harris</td>\n",
       "      <td>700005</td>\n",
       "    </tr>\n",
       "  </tbody>\n",
       "</table>\n",
       "</div>"
      ],
      "text/plain": [
       "                 Title  Year  Rating                                Actors  \\\n",
       "Rank                                                                         \n",
       "1      Planet Earth II  2016     9.4    David Attenborough, Chadden Hunter   \n",
       "2         Breaking Bad  2008     9.4            Bryan Cranston, Aaron Paul   \n",
       "3         Planet Earth  2006     9.4  Sigourney Weaver, David Attenborough   \n",
       "4     Band of Brothers  2001     9.4            Scott Grimes, Damian Lewis   \n",
       "5            Chernobyl  2019     9.3          Jessie Buckley, Jared Harris   \n",
       "\n",
       "      Number of User Ratings  \n",
       "Rank                          \n",
       "1                     132463  \n",
       "2                    1738809  \n",
       "3                     199038  \n",
       "4                     444422  \n",
       "5                     700005  "
      ]
     },
     "execution_count": 8,
     "metadata": {},
     "output_type": "execute_result"
    }
   ],
   "source": [
    "topTvShows= pd.read_csv(r'C:\\Users\\Leslie Sequeira\\Downloads\\Web_Scraping\\toptv-output.csv' , index_col=0)\n",
    "topTvShows.head()"
   ]
  },
  {
   "cell_type": "code",
   "execution_count": 9,
   "id": "a233b106",
   "metadata": {},
   "outputs": [
    {
     "data": {
      "text/html": [
       "<div>\n",
       "<style scoped>\n",
       "    .dataframe tbody tr th:only-of-type {\n",
       "        vertical-align: middle;\n",
       "    }\n",
       "\n",
       "    .dataframe tbody tr th {\n",
       "        vertical-align: top;\n",
       "    }\n",
       "\n",
       "    .dataframe thead th {\n",
       "        text-align: right;\n",
       "    }\n",
       "</style>\n",
       "<table border=\"1\" class=\"dataframe\">\n",
       "  <thead>\n",
       "    <tr style=\"text-align: right;\">\n",
       "      <th></th>\n",
       "      <th>Title</th>\n",
       "      <th>Year</th>\n",
       "      <th>Rating</th>\n",
       "      <th>Director</th>\n",
       "      <th>Actors</th>\n",
       "      <th>Number of User Ratings</th>\n",
       "    </tr>\n",
       "    <tr>\n",
       "      <th>Rank</th>\n",
       "      <th></th>\n",
       "      <th></th>\n",
       "      <th></th>\n",
       "      <th></th>\n",
       "      <th></th>\n",
       "      <th></th>\n",
       "    </tr>\n",
       "  </thead>\n",
       "  <tbody>\n",
       "    <tr>\n",
       "      <th>1</th>\n",
       "      <td>Disaster Movie</td>\n",
       "      <td>2008</td>\n",
       "      <td>2.1</td>\n",
       "      <td>Jason Friedberg</td>\n",
       "      <td>Carmen Electra, Vanessa Lachey</td>\n",
       "      <td>91076</td>\n",
       "    </tr>\n",
       "    <tr>\n",
       "      <th>2</th>\n",
       "      <td>Manos: The Hands of Fate</td>\n",
       "      <td>1966</td>\n",
       "      <td>2.2</td>\n",
       "      <td>Harold P. Warren</td>\n",
       "      <td>Tom Neyman, John Reynolds</td>\n",
       "      <td>36223</td>\n",
       "    </tr>\n",
       "    <tr>\n",
       "      <th>3</th>\n",
       "      <td>Superbabies: Baby Geniuses 2</td>\n",
       "      <td>2004</td>\n",
       "      <td>2.3</td>\n",
       "      <td>Bob Clark</td>\n",
       "      <td>Jon Voight, Scott Baio</td>\n",
       "      <td>30989</td>\n",
       "    </tr>\n",
       "    <tr>\n",
       "      <th>4</th>\n",
       "      <td>Birdemic: Shock and Terror</td>\n",
       "      <td>2010</td>\n",
       "      <td>2.3</td>\n",
       "      <td>James Nguyen</td>\n",
       "      <td>Alan Bagh, Whitney Moore</td>\n",
       "      <td>23249</td>\n",
       "    </tr>\n",
       "    <tr>\n",
       "      <th>5</th>\n",
       "      <td>The Hottie &amp; the Nottie</td>\n",
       "      <td>2008</td>\n",
       "      <td>2.4</td>\n",
       "      <td>Tom Putnam</td>\n",
       "      <td>Paris Hilton, Joel David Moore</td>\n",
       "      <td>38224</td>\n",
       "    </tr>\n",
       "  </tbody>\n",
       "</table>\n",
       "</div>"
      ],
      "text/plain": [
       "                             Title  Year  Rating          Director  \\\n",
       "Rank                                                                 \n",
       "1                   Disaster Movie  2008     2.1   Jason Friedberg   \n",
       "2         Manos: The Hands of Fate  1966     2.2  Harold P. Warren   \n",
       "3     Superbabies: Baby Geniuses 2  2004     2.3         Bob Clark   \n",
       "4       Birdemic: Shock and Terror  2010     2.3      James Nguyen   \n",
       "5          The Hottie & the Nottie  2008     2.4        Tom Putnam   \n",
       "\n",
       "                              Actors  Number of User Ratings  \n",
       "Rank                                                          \n",
       "1     Carmen Electra, Vanessa Lachey                   91076  \n",
       "2          Tom Neyman, John Reynolds                   36223  \n",
       "3             Jon Voight, Scott Baio                   30989  \n",
       "4           Alan Bagh, Whitney Moore                   23249  \n",
       "5     Paris Hilton, Joel David Moore                   38224  "
      ]
     },
     "execution_count": 9,
     "metadata": {},
     "output_type": "execute_result"
    }
   ],
   "source": [
    "bottomMovies= pd.read_csv(r'C:\\Users\\Leslie Sequeira\\Downloads\\Web_Scraping\\bottom-output.csv' , index_col=0)\n",
    "bottomMovies.head()"
   ]
  },
  {
   "cell_type": "code",
   "execution_count": 10,
   "id": "bfbc7423",
   "metadata": {
    "scrolled": true
   },
   "outputs": [
    {
     "data": {
      "text/html": [
       "<div>\n",
       "<style scoped>\n",
       "    .dataframe tbody tr th:only-of-type {\n",
       "        vertical-align: middle;\n",
       "    }\n",
       "\n",
       "    .dataframe tbody tr th {\n",
       "        vertical-align: top;\n",
       "    }\n",
       "\n",
       "    .dataframe thead th {\n",
       "        text-align: right;\n",
       "    }\n",
       "</style>\n",
       "<table border=\"1\" class=\"dataframe\">\n",
       "  <thead>\n",
       "    <tr style=\"text-align: right;\">\n",
       "      <th></th>\n",
       "      <th>Title</th>\n",
       "      <th>Year</th>\n",
       "      <th>Rating</th>\n",
       "      <th>Director</th>\n",
       "      <th>Actors</th>\n",
       "      <th>Number of User Ratings</th>\n",
       "    </tr>\n",
       "    <tr>\n",
       "      <th>Rank</th>\n",
       "      <th></th>\n",
       "      <th></th>\n",
       "      <th></th>\n",
       "      <th></th>\n",
       "      <th></th>\n",
       "      <th></th>\n",
       "    </tr>\n",
       "  </thead>\n",
       "  <tbody>\n",
       "    <tr>\n",
       "      <th>1</th>\n",
       "      <td>The Shawshank Redemption</td>\n",
       "      <td>1994</td>\n",
       "      <td>9.2</td>\n",
       "      <td>Frank Darabont</td>\n",
       "      <td>Tim Robbins, Morgan Freeman</td>\n",
       "      <td>2592177</td>\n",
       "    </tr>\n",
       "    <tr>\n",
       "      <th>2</th>\n",
       "      <td>The Godfather</td>\n",
       "      <td>1972</td>\n",
       "      <td>9.2</td>\n",
       "      <td>Francis Ford Coppola</td>\n",
       "      <td>Marlon Brando, Al Pacino</td>\n",
       "      <td>1787460</td>\n",
       "    </tr>\n",
       "    <tr>\n",
       "      <th>3</th>\n",
       "      <td>The Dark Knight</td>\n",
       "      <td>2008</td>\n",
       "      <td>9.0</td>\n",
       "      <td>Christopher Nolan</td>\n",
       "      <td>Christian Bale, Heath Ledger</td>\n",
       "      <td>2563022</td>\n",
       "    </tr>\n",
       "    <tr>\n",
       "      <th>4</th>\n",
       "      <td>The Godfather: Part II</td>\n",
       "      <td>1974</td>\n",
       "      <td>9.0</td>\n",
       "      <td>Francis Ford Coppola</td>\n",
       "      <td>Al Pacino, Robert De Niro</td>\n",
       "      <td>1233444</td>\n",
       "    </tr>\n",
       "    <tr>\n",
       "      <th>5</th>\n",
       "      <td>12 Angry Men</td>\n",
       "      <td>1957</td>\n",
       "      <td>8.9</td>\n",
       "      <td>Sidney Lumet</td>\n",
       "      <td>Henry Fonda, Lee J. Cobb</td>\n",
       "      <td>765748</td>\n",
       "    </tr>\n",
       "  </tbody>\n",
       "</table>\n",
       "</div>"
      ],
      "text/plain": [
       "                         Title  Year  Rating              Director  \\\n",
       "Rank                                                                 \n",
       "1     The Shawshank Redemption  1994     9.2        Frank Darabont   \n",
       "2                The Godfather  1972     9.2  Francis Ford Coppola   \n",
       "3              The Dark Knight  2008     9.0     Christopher Nolan   \n",
       "4       The Godfather: Part II  1974     9.0  Francis Ford Coppola   \n",
       "5                 12 Angry Men  1957     8.9          Sidney Lumet   \n",
       "\n",
       "                            Actors  Number of User Ratings  \n",
       "Rank                                                        \n",
       "1      Tim Robbins, Morgan Freeman                 2592177  \n",
       "2         Marlon Brando, Al Pacino                 1787460  \n",
       "3     Christian Bale, Heath Ledger                 2563022  \n",
       "4        Al Pacino, Robert De Niro                 1233444  \n",
       "5         Henry Fonda, Lee J. Cobb                  765748  "
      ]
     },
     "execution_count": 10,
     "metadata": {},
     "output_type": "execute_result"
    }
   ],
   "source": [
    "topMovies= pd.read_csv(r'C:\\Users\\Leslie Sequeira\\Downloads\\Web_Scraping\\top-output.csv' , index_col=0)\n",
    "topMovies.head()"
   ]
  }
 ],
 "metadata": {
  "kernelspec": {
   "display_name": "Python 3",
   "language": "python",
   "name": "python3"
  },
  "language_info": {
   "codemirror_mode": {
    "name": "ipython",
    "version": 3
   },
   "file_extension": ".py",
   "mimetype": "text/x-python",
   "name": "python",
   "nbconvert_exporter": "python",
   "pygments_lexer": "ipython3",
   "version": "3.8.8"
  }
 },
 "nbformat": 4,
 "nbformat_minor": 5
}
